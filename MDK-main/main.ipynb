{
 "cells": [
  {
   "cell_type": "code",
   "execution_count": 19,
   "metadata": {},
   "outputs": [
    {
     "name": "stdout",
     "output_type": "stream",
     "text": [
      "<Response [200]>\n",
      "{'smile': 0.0, 'headPose': {'pitch': -11.4, 'roll': 7.7, 'yaw': 5.3}, 'gender': 'male', 'age': 30.0, 'facialHair': {'moustache': 0.4, 'beard': 0.4, 'sideburns': 0.1}, 'glasses': 'NoGlasses', 'emotion': {'anger': 0.0, 'contempt': 0.0, 'disgust': 0.0, 'fear': 0.0, 'happiness': 0.0, 'neutral': 0.999, 'sadness': 0.001, 'surprise': 0.0}, 'blur': {'blurLevel': 'high', 'value': 0.89}, 'exposure': {'exposureLevel': 'goodExposure', 'value': 0.51}, 'noise': {'noiseLevel': 'medium', 'value': 0.59}, 'makeup': {'eyeMakeup': True, 'lipMakeup': False}, 'accessories': [], 'occlusion': {'foreheadOccluded': False, 'eyeOccluded': False, 'mouthOccluded': False}, 'hair': {'bald': 0.04, 'invisible': False, 'hairColor': [{'color': 'black', 'confidence': 0.98}, {'color': 'brown', 'confidence': 0.87}, {'color': 'gray', 'confidence': 0.85}, {'color': 'other', 'confidence': 0.25}, {'color': 'blond', 'confidence': 0.07}, {'color': 'red', 'confidence': 0.02}, {'color': 'white', 'confidence': 0.0}]}}\n",
      "{'smile': 0.003, 'headPose': {'pitch': -9.0, 'roll': -0.5, 'yaw': -1.5}, 'gender': 'female', 'age': 60.0, 'facialHair': {'moustache': 0.0, 'beard': 0.0, 'sideburns': 0.0}, 'glasses': 'NoGlasses', 'emotion': {'anger': 0.0, 'contempt': 0.001, 'disgust': 0.0, 'fear': 0.0, 'happiness': 0.003, 'neutral': 0.984, 'sadness': 0.011, 'surprise': 0.0}, 'blur': {'blurLevel': 'high', 'value': 0.83}, 'exposure': {'exposureLevel': 'goodExposure', 'value': 0.41}, 'noise': {'noiseLevel': 'high', 'value': 0.76}, 'makeup': {'eyeMakeup': False, 'lipMakeup': False}, 'accessories': [], 'occlusion': {'foreheadOccluded': False, 'eyeOccluded': False, 'mouthOccluded': False}, 'hair': {'bald': 0.06, 'invisible': False, 'hairColor': [{'color': 'black', 'confidence': 0.99}, {'color': 'gray', 'confidence': 0.89}, {'color': 'other', 'confidence': 0.64}, {'color': 'brown', 'confidence': 0.34}, {'color': 'blond', 'confidence': 0.07}, {'color': 'red', 'confidence': 0.03}, {'color': 'white', 'confidence': 0.0}]}}\n"
     ]
    }
   ],
   "source": [
    "#azure\n",
    "import requests,json,urllib.request,os\n",
    "from PIL import Image,ImageDraw,ImageFont\n",
    "\n",
    "# サブスクリプションキー設定\n",
    "subscription_key = \"7424afc9348543b59f18366182f5fc12\"\n",
    "assert subscription_key\n",
    "\n",
    "# エンドポイントURL設定\n",
    "face_api_url = \"https://webchat.cognitiveservices.azure.com/face/v1.0/detect\"\n",
    "\n",
    "# 顔認識させる画像のURL\n",
    "image_url = 'https://upload.wikimedia.org/wikipedia/commons/3/37/Dagestani_man_and_woman.jpg'\n",
    "\n",
    "# ヘッダ設定\n",
    "headers = {'Ocp-Apim-Subscription-Key': subscription_key}\n",
    "\n",
    "# パラメーターの設定\n",
    "params = {\n",
    "    'returnFaceId': 'true',\n",
    "    'returnFaceLandmarks': 'false',\n",
    "    'returnFaceAttributes': 'age,gender,headPose,smile,facialHair,glasses,emotion,hair,makeup,occlusion,accessories,blur,exposure,noise',\n",
    "}\n",
    "\n",
    "# POSTリクエスト\n",
    "request = requests.post(face_api_url, params=params,\n",
    "    headers=headers, json={\"url\": image_url})\n",
    "\n",
    "print(request)\n",
    "# JSONデコード\n",
    "response = request.json()\n",
    "\n",
    "# URLの画像保存\n",
    "image_path = os.path.join(os.path.join(os.path.join(os.environ.get(\"HOME\")), 'Desktop/hackson'),'myPicture.png')\n",
    "urllib.request.urlretrieve(image_url,image_path)\n",
    "\n",
    "# 顔と認識された箇所に四角を描く関数\n",
    "def draw_rectangle( draw, coordinates, color,smile ,width = 1):\n",
    "    flag=False\n",
    "    if smile>=0.0:\n",
    "        flag=True\n",
    "    if flag:\n",
    "        for i in range(width):\n",
    "            rect_start = (coordinates[0][0] - i, coordinates[0][1] - i)\n",
    "            rect_end = (coordinates[1][0] + i, coordinates[1][1] + i)\n",
    "\n",
    "            draw.rectangle((rect_start, rect_end), outline = color)\n",
    "\n",
    "# 顔と認識された箇所に性別を描く関数\n",
    "def draw_smile(draw, coordinates, smile, align, font, fill):\n",
    "    draw.text(coordinates, str(smile), align = align,font = font, fill = fill)\n",
    "\n",
    "\n",
    "# イメージオブジェクト生成\n",
    "im = Image.open(image_path)\n",
    "drawing = ImageDraw.Draw(im)\n",
    "\n",
    "for index in range(len(response)):\n",
    "    # 取得した顔情報\n",
    "    image_top    = response[index]['faceRectangle']['top']\n",
    "    image_left   = response[index]['faceRectangle']['left']\n",
    "    image_height = response[index]['faceRectangle']['height']\n",
    "    image_width  = response[index]['faceRectangle']['width']\n",
    "    image_smile = response[index]['faceAttributes']['smile']\n",
    "    print(response[index][\"faceAttributes\"])\n",
    "\n",
    "    # 関数呼び出し(四角)\n",
    "    face_top_left = (image_left, image_top)\n",
    "    face_bottom_right = (image_left + image_width, image_top + image_height)\n",
    "    outline_width = 10\n",
    "    outline_color = \"Blue\"\n",
    "    draw_rectangle(drawing, (face_top_left, face_bottom_right), color = outline_color,smile=image_smile, width = outline_width)\n",
    "\n",
    "        # 関数呼び出し(性別)\n",
    "    gender_top_left = (image_left, image_top - 100)\n",
    "    font = ImageFont.truetype(\"/System/Library/Fonts/SFNS.ttf\", 100) \n",
    "    align = 'Left'\n",
    "    fill  = 'Red'\n",
    "    draw_smile(drawing, gender_top_left,image_smile,align, font, fill)\n",
    "\n",
    "# イメージを表示\n",
    "im.show()\n"
   ]
  },
  {
   "cell_type": "code",
   "execution_count": null,
   "metadata": {},
   "outputs": [],
   "source": []
  }
 ],
 "metadata": {
  "interpreter": {
   "hash": "99d0a9ef90b45d437de777646d3f9d3f2991fbc6e9e50a72e1f6fb22e630f7d3"
  },
  "kernelspec": {
   "display_name": "Python 3.8.12 64-bit ('python38': conda)",
   "language": "python",
   "name": "python3"
  },
  "language_info": {
   "codemirror_mode": {
    "name": "ipython",
    "version": 3
   },
   "file_extension": ".py",
   "mimetype": "text/x-python",
   "name": "python",
   "nbconvert_exporter": "python",
   "pygments_lexer": "ipython3",
   "version": "3.8.12"
  },
  "orig_nbformat": 4
 },
 "nbformat": 4,
 "nbformat_minor": 2
}
